{
 "cells": [
  {
   "cell_type": "markdown",
   "id": "c19e6ae9-e52c-495a-a657-dae9ba5add74",
   "metadata": {},
   "source": [
    "**Predicting Subscription Habits based on Age and Played Hours in a Minecraft Server**\n",
    "\n",
    "Samantha Cham, Daha Choi, Trini Laughlen, and Madeline Miles"
   ]
  },
  {
   "cell_type": "markdown",
   "id": "0f29d3f4-42db-4109-9f11-89ed38909719",
   "metadata": {},
   "source": [
    "Introduction"
   ]
  },
  {
   "cell_type": "code",
   "execution_count": null,
   "id": "aa789f40-aae5-41c7-a272-37fb44ee08fe",
   "metadata": {},
   "outputs": [],
   "source": [
    "Methods"
   ]
  },
  {
   "cell_type": "markdown",
   "id": "dce9d686-f031-43db-8b6d-b601a61509b7",
   "metadata": {},
   "source": [
    "Results"
   ]
  },
  {
   "cell_type": "code",
   "execution_count": null,
   "id": "993e64ba-4082-4010-a18d-6c1afe36b476",
   "metadata": {},
   "outputs": [],
   "source": [
    "Discussion"
   ]
  }
 ],
 "metadata": {
  "kernelspec": {
   "display_name": "R",
   "language": "R",
   "name": "ir"
  },
  "language_info": {
   "codemirror_mode": "r",
   "file_extension": ".r",
   "mimetype": "text/x-r-source",
   "name": "R",
   "pygments_lexer": "r",
   "version": "4.3.3"
  }
 },
 "nbformat": 4,
 "nbformat_minor": 5
}
